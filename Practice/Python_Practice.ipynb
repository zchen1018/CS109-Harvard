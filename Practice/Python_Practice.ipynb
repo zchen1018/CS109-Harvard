{
 "cells": [
  {
   "cell_type": "code",
   "execution_count": 1,
   "metadata": {
    "collapsed": false
   },
   "outputs": [],
   "source": [
    "# Find the kth largest number of an array in O(n)\n",
    "import random\n",
    "import numpy as np\n",
    "\n",
    "def select(arr, k):\n",
    "    if k > len(arr):\n",
    "        print 'k should be at most the length of the array.'\n",
    "        return ''\n",
    "    arr = np.array(arr)\n",
    "    splitter = random.choice(arr)\n",
    "    left = arr[arr < splitter]\n",
    "    right = arr[arr > splitter]\n",
    "    if len(left) == (k-1):\n",
    "        return splitter\n",
    "    elif len(left) > (k-1): # kth is in the left\n",
    "        return select(left, k)\n",
    "    elif len(left) < (k-1): # kth is in the right\n",
    "        return select(right, k-len(left)-1)"
   ]
  },
  {
   "cell_type": "code",
   "execution_count": 2,
   "metadata": {
    "collapsed": false
   },
   "outputs": [
    {
     "name": "stdout",
     "output_type": "stream",
     "text": [
      "5\n",
      "k should be at most the length of the array.\n",
      "\n"
     ]
    }
   ],
   "source": [
    "print select(range(1, 10), 5)\n",
    "print select(range(1, 10), 10)"
   ]
  },
  {
   "cell_type": "code",
   "execution_count": 11,
   "metadata": {
    "collapsed": true
   },
   "outputs": [],
   "source": [
    "# Return the sum of all digits of a integer\n",
    "# 1. Convert it to a string\n",
    "def dig_sum_1(n):\n",
    "    n = str(n)\n",
    "    s = 0\n",
    "    for i in range(len(n)):\n",
    "        temp = n[i]\n",
    "        s += int(temp)\n",
    "    return s\n",
    "\n",
    "# 2. Mod by 10\n",
    "def dig_sum_2(n):\n",
    "    s = 0\n",
    "    while n > 0:\n",
    "        n, d = divmod(n, 10)\n",
    "        s += d\n",
    "    return s"
   ]
  },
  {
   "cell_type": "code",
   "execution_count": 12,
   "metadata": {
    "collapsed": false
   },
   "outputs": [
    {
     "name": "stdout",
     "output_type": "stream",
     "text": [
      "6\n",
      "15\n"
     ]
    }
   ],
   "source": [
    "print dig_sum_1(123)\n",
    "print dig_sum_2(54321)"
   ]
  },
  {
   "cell_type": "code",
   "execution_count": null,
   "metadata": {
    "collapsed": true
   },
   "outputs": [],
   "source": []
  }
 ],
 "metadata": {
  "kernelspec": {
   "display_name": "Python 2",
   "language": "python",
   "name": "python2"
  },
  "language_info": {
   "codemirror_mode": {
    "name": "ipython",
    "version": 2
   },
   "file_extension": ".py",
   "mimetype": "text/x-python",
   "name": "python",
   "nbconvert_exporter": "python",
   "pygments_lexer": "ipython2",
   "version": "2.7.10"
  }
 },
 "nbformat": 4,
 "nbformat_minor": 0
}
