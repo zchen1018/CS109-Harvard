{
 "cells": [
  {
   "cell_type": "code",
   "execution_count": 29,
   "metadata": {
    "collapsed": false
   },
   "outputs": [],
   "source": [
    "# Find the kth largest number of an array in O(n)\n",
    "import random\n",
    "import numpy as np\n",
    "\n",
    "def select(arr, k):\n",
    "    if k > len(arr):\n",
    "        print 'k should be at most the length of the array.'\n",
    "        return\n",
    "    arr = np.array(arr)\n",
    "    splitter = random.choice(arr)\n",
    "    left = arr[arr < splitter]\n",
    "    right = arr[arr > splitter]\n",
    "    if len(left) == (k-1):\n",
    "        return splitter\n",
    "    elif len(left) > (k-1): # kth is in the left\n",
    "        return select(left, k)\n",
    "    elif len(left) < (k-1): # kth is in the right\n",
    "        return select(right, k-len(left)-1)"
   ]
  },
  {
   "cell_type": "code",
   "execution_count": 31,
   "metadata": {
    "collapsed": false
   },
   "outputs": [
    {
     "name": "stdout",
     "output_type": "stream",
     "text": [
      "5\n",
      "k should be at most the length of the array.\n",
      "None\n"
     ]
    }
   ],
   "source": [
    "print select(range(1, 10), 5)\n",
    "print select(range(1, 10), 10)"
   ]
  }
 ],
 "metadata": {
  "kernelspec": {
   "display_name": "Python 2",
   "language": "python",
   "name": "python2"
  },
  "language_info": {
   "codemirror_mode": {
    "name": "ipython",
    "version": 2
   },
   "file_extension": ".py",
   "mimetype": "text/x-python",
   "name": "python",
   "nbconvert_exporter": "python",
   "pygments_lexer": "ipython2",
   "version": "2.7.10"
  }
 },
 "nbformat": 4,
 "nbformat_minor": 0
}
