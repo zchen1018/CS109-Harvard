{
 "cells": [
  {
   "cell_type": "code",
   "execution_count": 1,
   "metadata": {
    "collapsed": false
   },
   "outputs": [],
   "source": [
    "# Find the kth largest number of an array in O(n)\n",
    "import random\n",
    "import numpy as np\n",
    "\n",
    "def select(arr, k):\n",
    "    if k > len(arr):\n",
    "        return 'k should be at most the length of the array.'\n",
    "    \n",
    "    arr = np.array(arr)\n",
    "    splitter = random.choice(arr)\n",
    "    left = arr[arr < splitter]\n",
    "    right = arr[arr > splitter]\n",
    "    if len(left) == (k-1):\n",
    "        return splitter\n",
    "    elif len(left) > (k-1): # kth is in the left\n",
    "        return select(left, k)\n",
    "    elif len(left) < (k-1): # kth is in the right\n",
    "        return select(right, k-len(left)-1)"
   ]
  },
  {
   "cell_type": "code",
   "execution_count": 2,
   "metadata": {
    "collapsed": false
   },
   "outputs": [
    {
     "name": "stdout",
     "output_type": "stream",
     "text": [
      "5\n",
      "k should be at most the length of the array.\n"
     ]
    }
   ],
   "source": [
    "print select(range(1, 10), 5)\n",
    "print select(range(1, 10), 10)"
   ]
  },
  {
   "cell_type": "code",
   "execution_count": 3,
   "metadata": {
    "collapsed": true
   },
   "outputs": [],
   "source": [
    "# Return the sum of all digits of a integer\n",
    "# 1. Convert it to a string\n",
    "def dig_sum_1(n):\n",
    "    n = str(n)\n",
    "    s = 0\n",
    "    for i in range(len(n)):\n",
    "        temp = n[i]\n",
    "        s += int(temp)\n",
    "    return s\n",
    "\n",
    "# 2. Mod by 10\n",
    "def dig_sum_2(n):\n",
    "    s = 0\n",
    "    while n > 0:\n",
    "        n, d = divmod(n, 10)\n",
    "        s += d\n",
    "    return s"
   ]
  },
  {
   "cell_type": "code",
   "execution_count": 4,
   "metadata": {
    "collapsed": false
   },
   "outputs": [
    {
     "name": "stdout",
     "output_type": "stream",
     "text": [
      "6\n",
      "15\n"
     ]
    }
   ],
   "source": [
    "print dig_sum_1(123)\n",
    "print dig_sum_2(54321)"
   ]
  },
  {
   "cell_type": "code",
   "execution_count": 16,
   "metadata": {
    "collapsed": true
   },
   "outputs": [],
   "source": [
    "# String-matching problem\n",
    "# Find all valid shifts with which a given pattern P (of length m) occurs in a given text T (of length n)\n",
    "\n",
    "# 1. Naive-search: No preprocessing, O((n-m+1)m) for matching\n",
    "def naive_string_matching(pattern, text):\n",
    "    m = len(pattern)\n",
    "    n = len(text)\n",
    "    for s in range(n-m+1):\n",
    "        if pattern == text[s:(s+m)]:\n",
    "            print 'A valid shift of', s"
   ]
  },
  {
   "cell_type": "code",
   "execution_count": 17,
   "metadata": {
    "collapsed": false
   },
   "outputs": [
    {
     "name": "stdout",
     "output_type": "stream",
     "text": [
      "A valid shift of 0\n",
      "A valid shift of 3\n"
     ]
    }
   ],
   "source": [
    "naive_string_matching('aab', 'aabaab')"
   ]
  },
  {
   "cell_type": "code",
   "execution_count": 7,
   "metadata": {
    "collapsed": true
   },
   "outputs": [],
   "source": [
    "# 2. Rabin-Karp Matcher\n",
    "# ref: http://pages.cs.wisc.edu/~cs577-1/CLRS.pdf\n",
    "# assume characters are all integers\n",
    "# d is the base, q is the prime number chosen\n",
    "def Rabin_Karp(pattern, text, d = 10, q = 13): \n",
    "    m = len(pattern)\n",
    "    n = len(text)    \n",
    "    h = d**(m-1) % q\n",
    "    p = 0\n",
    "    t = [0]\n",
    "    \n",
    "    # preprocessing\n",
    "    for i in range(m):\n",
    "        p = (d*p + int(pattern[i])) % q\n",
    "        t[0] = (d*t[0] + int(text[i])) % q\n",
    "        \n",
    "    # matching\n",
    "    for s in range(n-m+1):\n",
    "        if p == t[s]:\n",
    "            if pattern == text[s:(s+m)]:\n",
    "                print 'A valid shift of', s\n",
    "        if s < (n-m):\n",
    "            t.append( (d*(t[s] - int(text[s]) * h)  + int(text[s+m])) % q)\n",
    "    \n",
    "    print 't is', t\n",
    "    print 'p is', p"
   ]
  },
  {
   "cell_type": "code",
   "execution_count": 8,
   "metadata": {
    "collapsed": false
   },
   "outputs": [
    {
     "name": "stdout",
     "output_type": "stream",
     "text": [
      "A valid shift of 6\n",
      "t is [8, 9, 3, 11, 0, 1, 7, 8, 4, 5, 10, 11, 7, 9, 11]\n",
      "p is 7\n"
     ]
    }
   ],
   "source": [
    "Rabin_Karp('31415', '2359023141526739921')"
   ]
  },
  {
   "cell_type": "code",
   "execution_count": null,
   "metadata": {
    "collapsed": true
   },
   "outputs": [],
   "source": []
  }
 ],
 "metadata": {
  "kernelspec": {
   "display_name": "Python 2",
   "language": "python",
   "name": "python2"
  },
  "language_info": {
   "codemirror_mode": {
    "name": "ipython",
    "version": 2
   },
   "file_extension": ".py",
   "mimetype": "text/x-python",
   "name": "python",
   "nbconvert_exporter": "python",
   "pygments_lexer": "ipython2",
   "version": "2.7.10"
  }
 },
 "nbformat": 4,
 "nbformat_minor": 0
}
