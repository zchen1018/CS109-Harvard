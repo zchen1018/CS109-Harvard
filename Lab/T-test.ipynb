{
 "cells": [
  {
   "cell_type": "code",
   "execution_count": 1,
   "metadata": {
    "collapsed": true
   },
   "outputs": [],
   "source": [
    "%matplotlib inline\n",
    "\n",
    "import numpy as np\n",
    "import matplotlib.pyplot as plt\n",
    "import pandas as pd\n",
    "import scipy.stats as stats"
   ]
  },
  {
   "cell_type": "code",
   "execution_count": 28,
   "metadata": {
    "collapsed": false
   },
   "outputs": [],
   "source": [
    "# help(stats.lognorm.rvs)"
   ]
  },
  {
   "cell_type": "code",
   "execution_count": 65,
   "metadata": {
    "collapsed": false
   },
   "outputs": [
    {
     "data": {
      "image/png": "[encoded data removed]",
      "text/plain": [
       "<matplotlib.figure.Figure at 0x10a96ac50>"
      ]
     },
     "metadata": {},
     "output_type": "display_data"
    }
   ],
   "source": [
    "log_norm = stats.lognorm\n",
    "response_time = log_norm.rvs(1, loc = 20, scale = 3, size = 1000)\n",
    "plt.hist(response_time, bins = 40, normed = True)\n",
    "plt.xlim(18)\n",
    "plt.axvline(np.median(response_time), c = 'red', linestyle = '--')\n",
    "plt.axvline(np.mean(response_time), c = 'grey', linestyle = '--')\n",
    "plt.legend(['median', 'mean'], loc = 'upper right')\n",
    "plt.show()"
   ]
  },
  {
   "cell_type": "code",
   "execution_count": 67,
   "metadata": {
    "collapsed": false
   },
   "outputs": [],
   "source": [
    "# simulate for treatment response time\n",
    "trt_time = stats.lognorm.rvs(1, loc = 22, scale = 2, size = 986)"
   ]
  },
  {
   "cell_type": "code",
   "execution_count": 73,
   "metadata": {
    "collapsed": false
   },
   "outputs": [
    {
     "name": "stdout",
     "output_type": "stream",
     "text": [
      "p-value of the test: 0.833162548122\n"
     ]
    }
   ],
   "source": [
    "# Independent Sample T-test\n",
    "t_test = stats.ttest_ind(response_time, trt_time)\n",
    "print 'p-value of the test:', t_test[1]"
   ]
  },
  {
   "cell_type": "code",
   "execution_count": 75,
   "metadata": {
    "collapsed": false
   },
   "outputs": [
    {
     "name": "stdout",
     "output_type": "stream",
     "text": [
      "p-value after log-trans: 0.0445070059487\n"
     ]
    }
   ],
   "source": [
    "# log-transform first\n",
    "print 'p-value after log-trans:', stats.ttest_ind(np.log(response_time), np.log(trt_time))[1]"
   ]
  },
  {
   "cell_type": "code",
   "execution_count": 83,
   "metadata": {
    "collapsed": false
   },
   "outputs": [
    {
     "data": {
      "image/png": "[encoded data removed]",
      "text/plain": [
       "<matplotlib.figure.Figure at 0x10a05c6d0>"
      ]
     },
     "metadata": {},
     "output_type": "display_data"
    }
   ],
   "source": [
    "# Check the hist of the transformed data\n",
    "plt.hist(np.log(response_time), alpha = 0.3, bins=20)\n",
    "plt.hist(np.log(trt_time), color = 'red', alpha = 0.3, bins=20)\n",
    "plt.show()"
   ]
  }
 ],
 "metadata": {
  "kernelspec": {
   "display_name": "Python 2",
   "language": "python",
   "name": "python2"
  },
  "language_info": {
   "codemirror_mode": {
    "name": "ipython",
    "version": 2
   },
   "file_extension": ".py",
   "mimetype": "text/x-python",
   "name": "python",
   "nbconvert_exporter": "python",
   "pygments_lexer": "ipython2",
   "version": "2.7.10"
  }
 },
 "nbformat": 4,
 "nbformat_minor": 0
}
