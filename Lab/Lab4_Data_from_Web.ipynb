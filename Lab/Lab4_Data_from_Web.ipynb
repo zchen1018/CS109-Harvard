{
 "cells": [
  {
   "cell_type": "code",
   "execution_count": 1,
   "metadata": {
    "collapsed": false
   },
   "outputs": [],
   "source": [
    "# special IPython command to prepare the notebook for matplotlib\n",
    "%matplotlib inline \n",
    "\n",
    "import urllib2 # module to read in HTML\n",
    "import bs4 # BeautifulSoup: module to parse HTML and XML\n",
    "import json # \n",
    "import datetime as dt # module for manipulating dates and times\n",
    "import pandas as pd\n",
    "import numpy as np"
   ]
  },
  {
   "cell_type": "markdown",
   "metadata": {},
   "source": [
    "## Recall from from lab last week 09/19/2014\n",
    "\n",
    "Previously discussed: \n",
    "\n",
    "* More pandas, matplotlib for exploratory data analysis\n",
    "* Brief introduction to numpy and scipy\n",
    "* Working on the command line\n",
    "* Overview of git and Github"
   ]
  },
  {
   "cell_type": "markdown",
   "metadata": {},
   "source": [
    "## Today, we will discuss the following:\n",
    "\n",
    "* urllib2 - reads in HTML\n",
    "* BeautifulSoup - use to parse HTML and XML code\n",
    "    * Reddit\n",
    "* JSON examples\n",
    "    * World Cup\n",
    "\n",
    "<a href=https://raw.githubusercontent.com/cs109/2014/master/labs/Lab4_Notes.ipynb download=Lab4_Notes.ipynb> Download this notebook from Github </a>"
   ]
  },
  {
   "cell_type": "markdown",
   "metadata": {},
   "source": [
    "# urllib2\n",
    "\n",
    "[urllib2](https://docs.python.org/2/library/urllib2.html) is a useful module to get information about and retrieving data from the web. The function `urlopen()` opens a URL (similar to opening a file). The file-like object has some of the methods as a file object. For example, to read the entire HTML of the webpage into a single string, use the method `read()`. `readlines()` can read in the text line by line. While `read()` reads in the HTML code and and `close()` closes the URL connection. \n"
   ]
  },
  {
   "cell_type": "code",
   "execution_count": 2,
   "metadata": {
    "collapsed": false
   },
   "outputs": [],
   "source": [
    "x = urllib2.urlopen(\"http://www.google.com\")\n",
    "htmlSource = x.read()\n",
    "x.close()"
   ]
  },
  {
   "cell_type": "code",
   "execution_count": 3,
   "metadata": {
    "collapsed": false
   },
   "outputs": [
    {
     "data": {
      "text/plain": [
       "str"
      ]
     },
     "execution_count": 3,
     "metadata": {},
     "output_type": "execute_result"
    }
   ],
   "source": [
    "type(htmlSource)"
   ]
  },
  {
   "cell_type": "code",
   "execution_count": 6,
   "metadata": {
    "collapsed": false
   },
   "outputs": [
    {
     "name": "stdout",
     "output_type": "stream",
     "text": [
      "<!doctype html><html\n"
     ]
    }
   ],
   "source": [
    "print htmlSource[:20]"
   ]
  },
  {
   "cell_type": "markdown",
   "metadata": {},
   "source": [
    "# BeautifulSoup\n",
    "\n",
    "Once you have the HTML source code, you have to parse it and clean it up.\n",
    "\n",
    "[BeautifulSoup](http://www.crummy.com/software/BeautifulSoup/bs4/doc/) is a really useful python module for parsing HTML and XML files.  Let's try a few examples. \n",
    "\n",
    "For this section, we will be working with the HTML code from [Reddit](http://www.reddit.com). "
   ]
  },
  {
   "cell_type": "code",
   "execution_count": 59,
   "metadata": {
    "collapsed": false
   },
   "outputs": [],
   "source": [
    "# x = urllib2.urlopen(\"http://www.reddit.com\") # Opens URLS\n",
    "# htmlSource = x.read()\n",
    "# x.close()\n",
    "# print htmlSource"
   ]
  },
  {
   "cell_type": "markdown",
   "metadata": {
    "collapsed": false
   },
   "source": [
    "### prettify()\n",
    "\n",
    "Beautiful Soup gives us a `BeautifulSoup` object, which represents the document as a nested data structure. We can use the `prettify()` function to show the different levels of the HTML code. "
   ]
  },
  {
   "cell_type": "code",
   "execution_count": 56,
   "metadata": {
    "collapsed": false
   },
   "outputs": [],
   "source": [
    "soup = bs4.BeautifulSoup(htmlSource)\n",
    "#print soup.prettify()"
   ]
  },
  {
   "cell_type": "markdown",
   "metadata": {},
   "source": [
    "### Navigating the tree using tags\n",
    "\n",
    "The simplest way to navigate the parse tree is to say the name of the tag you want. If you want the `<head>` tag, just say `soup.head`:"
   ]
  },
  {
   "cell_type": "code",
   "execution_count": 12,
   "metadata": {
    "collapsed": false
   },
   "outputs": [
    {
     "name": "stdout",
     "output_type": "stream",
     "text": [
      "<head>\n",
      " <meta content=\"Search the world's information, including webpages, images, videos and more. Google has many special features to help you find exactly what you're looking for.\" name=\"description\"/>\n",
      " <meta content=\"noodp\" name=\"robots\"/>\n",
      " <meta content=\"text/html; charset=utf-8\" http-equiv=\"Content-Type\"/>\n",
      " <meta content=\"/images/branding/googleg/1x/googleg_standard_color_128dp.png\" itemprop=\"image\"/>\n",
      " <title>\n",
      "  Google\n",
      " </title>\n",
      " <script>\n",
      "  (function(){window.google={kEI:'ocH0VtWsMMTOeoHzrLAM',kEXPI:'3700322,3700388,3700389,3700393,4026241,4029815,4031109,4032677,4033307,4036509,4036527,4038012,4039268,4041302,4042785,4042793,4043492,4046304,4048347,4049551,4049573,4051240,4051558,4051714,4052304,4054284,4054551,4055202,4055234,4055242,4056038,4057169,4057316,4057739,4057836,4058327,4058337,4058949,4059767,4060660,4060845,4061089,4061125,4061155,4061181,4061303,4061382,4061393,4061552,4061563,4061782,4061922,4061924,4062002,4062096,4062222,4062333,4062407,4062641,4062645,4062680,4062706,4062950,4062967,4063144,4063749,8300096,8300273,8300310,8300342,8502946,8503132,8503303,8503306,8503506,8503512,8503584,8503811,8503926,8503928,8503932,8503934,8504023,8504031,8504107,10200084',authuser:0,kscs:'c9c918f0_24'};google.kHL='en';})();(function(){google.lc=[];google.li=0;google.getEI=function(a){for(var b;a&&(!a.getAttribute||!(b=a.getAttribute(\"eid\")));)a=a.parentNode;return b||google.kEI};google.getLEI=function(a){for(var b=null;a&&(!a.getAttribute||!(b=a.getAttribute(\"leid\")));)a=a.parentNode;return b};google.https=function(){return\"https:\"==window.location.protocol};google.ml=function(){return null};google.wl=function(a,b){try{google.ml(Error(a),!1,b)}catch(d){}};google.time=function(){return(new Date).getTime()};google.log=function(a,b,d,e,g){a=google.logUrl(a,b,d,e,g);if(\"\"!=a){b=new Image;var c=google.lc,f=google.li;c[f]=b;b.onerror=b.onload=b.onabort=function(){delete c[f]};window.google&&window.google.vel&&window.google.vel.lu&&window.google.vel.lu(a);b.src=a;google.li=f+1}};google.logUrl=function(a,b,d,e,g){var c=\"\",f=google.ls||\"\";if(!d&&-1==b.search(\"&ei=\")){var h=google.getEI(e),c=\"&ei=\"+h;-1==b.search(\"&lei=\")&&((e=google.getLEI(e))?c+=\"&lei=\"+e:h!=google.kEI&&(c+=\"&lei=\"+google.kEI))}a=d||\"/\"+(g||\"gen_204\")+\"?atyp=i&ct=\"+a+\"&cad=\"+b+c+f+\"&zx=\"+google.time();/^http:/i.test(a)&&google.https()&&(google.ml(Error(\"a\"),!1,{src:a,glmm:1}),a=\"\");return a};google.y={};google.x=function(a,b){google.y[a.id]=[a,b];return!1};google.load=function(a,b,d){google.x({id:a+k++},function(){google.load(a,b,d)})};var k=0;})();var _gjwl=location;function _gjuc(){var a=_gjwl.href.indexOf(\"#\");if(0<=a&&(a=_gjwl.href.substring(a),0<a.indexOf(\"&q=\")||0<=a.indexOf(\"#q=\"))&&(a=a.substring(1),-1==a.indexOf(\"#\"))){for(var d=0;d<a.length;){var b=d;\"&\"==a.charAt(b)&&++b;var c=a.indexOf(\"&\",b);-1==c&&(c=a.length);b=a.substring(b,c);if(0==b.indexOf(\"fp=\"))a=a.substring(0,d)+a.substring(c,a.length),c=d;else if(\"cad=h\"==b)return 0;d=c}_gjwl.href=\"/search?\"+a+\"&cad=h\";return 1}return 0}\n",
      "function _gjh(){!_gjuc()&&window.google&&google.x&&google.x({id:\"GJH\"},function(){google.nav&&google.nav.gjh&&google.nav.gjh()})};window._gjh&&_gjh();\n",
      " </script>\n",
      " <style>\n",
      "  #gbar,#guser{font-size:13px;padding-top:1px !important;}#gbar{height:22px}#guser{padding-bottom:7px !important;text-align:right}.gbh,.gbd{border-top:1px solid #c9d7f1;font-size:1px}.gbh{height:0;position:absolute;top:24px;width:100%}@media all{.gb1{height:22px;margin-right:.5em;vertical-align:top}#gbar{float:left}}a.gb1,a.gb4{text-decoration:underline !important}a.gb1,a.gb4{color:#00c !important}.gbi .gb4{color:#dd8e27 !important}.gbf .gb4{color:#900 !important}\n",
      " </style>\n",
      " <style>\n",
      "  body,td,a,p,.h{font-family:arial,sans-serif}body{margin:0;overflow-y:scroll}#gog{padding:3px 8px 0}td{line-height:.8em}.gac_m td{line-height:17px}form{margin-bottom:20px}.h{color:#36c}.q{color:#00c}.ts td{padding:0}.ts{border-collapse:collapse}em{font-weight:bold;font-style:normal}.lst{height:25px;width:496px}.gsfi,.lst{font:18px arial,sans-serif}.gsfs{font:17px arial,sans-serif}.ds{display:inline-box;display:inline-block;margin:3px 0 4px;margin-left:4px}input{font-family:inherit}a.gb1,a.gb2,a.gb3,a.gb4{color:#11c !important}body{background:#fff;color:black}a{color:#11c;text-decoration:none}a:hover,a:active{text-decoration:underline}.fl a{color:#36c}a:visited{color:#551a8b}a.gb1,a.gb4{text-decoration:underline}a.gb3:hover{text-decoration:none}#ghead a.gb2:hover{color:#fff !important}.sblc{padding-top:5px}.sblc a{display:block;margin:2px 0;margin-left:13px;font-size:11px}.lsbb{background:#eee;border:solid 1px;border-color:#ccc #999 #999 #ccc;height:30px}.lsbb{display:block}.ftl,#fll a{display:inline-block;margin:0 12px}.lsb{background:url(/images/nav_logo229.png) 0 -261px repeat-x;border:none;color:#000;cursor:pointer;height:30px;margin:0;outline:0;font:15px arial,sans-serif;vertical-align:top}.lsb:active{background:#ccc}.lst:focus{outline:none}\n",
      " </style>\n",
      " <script>\n",
      " </script>\n",
      " <link href=\"/images/branding/product/ico/googleg_lodp.ico\" rel=\"shortcut icon\"/>\n",
      "</head>\n",
      "\n"
     ]
    }
   ],
   "source": [
    "print soup.head.prettify()"
   ]
  },
  {
   "cell_type": "markdown",
   "metadata": {},
   "source": [
    "### .contents and .children\n",
    "\n",
    "A tag’s children are available in a list called `.contents` which returns a list.  "
   ]
  },
  {
   "cell_type": "code",
   "execution_count": 21,
   "metadata": {
    "collapsed": false
   },
   "outputs": [
    {
     "data": {
      "text/plain": [
       "[<meta content=\"Search the world's information, including webpages, images, videos and more. Google has many special features to help you find exactly what you're looking for.\" name=\"description\"/>,\n",
       " <meta content=\"noodp\" name=\"robots\"/>,\n",
       " <meta content=\"text/html; charset=utf-8\" http-equiv=\"Content-Type\"/>]"
      ]
     },
     "execution_count": 21,
     "metadata": {},
     "output_type": "execute_result"
    }
   ],
   "source": [
    "# Extract first three elements from the list of contents\n",
    "soup.head.contents[0:3]"
   ]
  },
  {
   "cell_type": "code",
   "execution_count": 22,
   "metadata": {
    "collapsed": false
   },
   "outputs": [
    {
     "data": {
      "text/plain": [
       "10"
      ]
     },
     "execution_count": 22,
     "metadata": {},
     "output_type": "execute_result"
    }
   ],
   "source": [
    "len(soup.head.contents)"
   ]
  },
  {
   "cell_type": "markdown",
   "metadata": {},
   "source": [
    "Instead of getting them as a list, you can iterate over a tag’s children using the .children generator:"
   ]
  },
  {
   "cell_type": "code",
   "execution_count": 23,
   "metadata": {
    "collapsed": false
   },
   "outputs": [
    {
     "data": {
      "text/plain": [
       "<listiterator at 0x10a429a10>"
      ]
     },
     "execution_count": 23,
     "metadata": {},
     "output_type": "execute_result"
    }
   ],
   "source": [
    "soup.head.children"
   ]
  },
  {
   "cell_type": "code",
   "execution_count": 24,
   "metadata": {
    "collapsed": false
   },
   "outputs": [
    {
     "name": "stdout",
     "output_type": "stream",
     "text": [
      "<meta content=\"Search the world's information, including webpages, images, videos and more. Google has many special features to help you find exactly what you're looking for.\" name=\"description\"/>\n",
      "<meta content=\"noodp\" name=\"robots\"/>\n",
      "<meta content=\"text/html; charset=utf-8\" http-equiv=\"Content-Type\"/>\n",
      "<meta content=\"/images/branding/googleg/1x/googleg_standard_color_128dp.png\" itemprop=\"image\"/>\n",
      "<title>Google</title>\n",
      "<script>(function(){window.google={kEI:'ocH0VtWsMMTOeoHzrLAM',kEXPI:'3700322,3700388,3700389,3700393,4026241,4029815,4031109,4032677,4033307,4036509,4036527,4038012,4039268,4041302,4042785,4042793,4043492,4046304,4048347,4049551,4049573,4051240,4051558,4051714,4052304,4054284,4054551,4055202,4055234,4055242,4056038,4057169,4057316,4057739,4057836,4058327,4058337,4058949,4059767,4060660,4060845,4061089,4061125,4061155,4061181,4061303,4061382,4061393,4061552,4061563,4061782,4061922,4061924,4062002,4062096,4062222,4062333,4062407,4062641,4062645,4062680,4062706,4062950,4062967,4063144,4063749,8300096,8300273,8300310,8300342,8502946,8503132,8503303,8503306,8503506,8503512,8503584,8503811,8503926,8503928,8503932,8503934,8504023,8504031,8504107,10200084',authuser:0,kscs:'c9c918f0_24'};google.kHL='en';})();(function(){google.lc=[];google.li=0;google.getEI=function(a){for(var b;a&&(!a.getAttribute||!(b=a.getAttribute(\"eid\")));)a=a.parentNode;return b||google.kEI};google.getLEI=function(a){for(var b=null;a&&(!a.getAttribute||!(b=a.getAttribute(\"leid\")));)a=a.parentNode;return b};google.https=function(){return\"https:\"==window.location.protocol};google.ml=function(){return null};google.wl=function(a,b){try{google.ml(Error(a),!1,b)}catch(d){}};google.time=function(){return(new Date).getTime()};google.log=function(a,b,d,e,g){a=google.logUrl(a,b,d,e,g);if(\"\"!=a){b=new Image;var c=google.lc,f=google.li;c[f]=b;b.onerror=b.onload=b.onabort=function(){delete c[f]};window.google&&window.google.vel&&window.google.vel.lu&&window.google.vel.lu(a);b.src=a;google.li=f+1}};google.logUrl=function(a,b,d,e,g){var c=\"\",f=google.ls||\"\";if(!d&&-1==b.search(\"&ei=\")){var h=google.getEI(e),c=\"&ei=\"+h;-1==b.search(\"&lei=\")&&((e=google.getLEI(e))?c+=\"&lei=\"+e:h!=google.kEI&&(c+=\"&lei=\"+google.kEI))}a=d||\"/\"+(g||\"gen_204\")+\"?atyp=i&ct=\"+a+\"&cad=\"+b+c+f+\"&zx=\"+google.time();/^http:/i.test(a)&&google.https()&&(google.ml(Error(\"a\"),!1,{src:a,glmm:1}),a=\"\");return a};google.y={};google.x=function(a,b){google.y[a.id]=[a,b];return!1};google.load=function(a,b,d){google.x({id:a+k++},function(){google.load(a,b,d)})};var k=0;})();var _gjwl=location;function _gjuc(){var a=_gjwl.href.indexOf(\"#\");if(0<=a&&(a=_gjwl.href.substring(a),0<a.indexOf(\"&q=\")||0<=a.indexOf(\"#q=\"))&&(a=a.substring(1),-1==a.indexOf(\"#\"))){for(var d=0;d<a.length;){var b=d;\"&\"==a.charAt(b)&&++b;var c=a.indexOf(\"&\",b);-1==c&&(c=a.length);b=a.substring(b,c);if(0==b.indexOf(\"fp=\"))a=a.substring(0,d)+a.substring(c,a.length),c=d;else if(\"cad=h\"==b)return 0;d=c}_gjwl.href=\"/search?\"+a+\"&cad=h\";return 1}return 0}\n",
      "function _gjh(){!_gjuc()&&window.google&&google.x&&google.x({id:\"GJH\"},function(){google.nav&&google.nav.gjh&&google.nav.gjh()})};window._gjh&&_gjh();</script>\n",
      "<style>#gbar,#guser{font-size:13px;padding-top:1px !important;}#gbar{height:22px}#guser{padding-bottom:7px !important;text-align:right}.gbh,.gbd{border-top:1px solid #c9d7f1;font-size:1px}.gbh{height:0;position:absolute;top:24px;width:100%}@media all{.gb1{height:22px;margin-right:.5em;vertical-align:top}#gbar{float:left}}a.gb1,a.gb4{text-decoration:underline !important}a.gb1,a.gb4{color:#00c !important}.gbi .gb4{color:#dd8e27 !important}.gbf .gb4{color:#900 !important}\n",
      "</style>\n",
      "<style>body,td,a,p,.h{font-family:arial,sans-serif}body{margin:0;overflow-y:scroll}#gog{padding:3px 8px 0}td{line-height:.8em}.gac_m td{line-height:17px}form{margin-bottom:20px}.h{color:#36c}.q{color:#00c}.ts td{padding:0}.ts{border-collapse:collapse}em{font-weight:bold;font-style:normal}.lst{height:25px;width:496px}.gsfi,.lst{font:18px arial,sans-serif}.gsfs{font:17px arial,sans-serif}.ds{display:inline-box;display:inline-block;margin:3px 0 4px;margin-left:4px}input{font-family:inherit}a.gb1,a.gb2,a.gb3,a.gb4{color:#11c !important}body{background:#fff;color:black}a{color:#11c;text-decoration:none}a:hover,a:active{text-decoration:underline}.fl a{color:#36c}a:visited{color:#551a8b}a.gb1,a.gb4{text-decoration:underline}a.gb3:hover{text-decoration:none}#ghead a.gb2:hover{color:#fff !important}.sblc{padding-top:5px}.sblc a{display:block;margin:2px 0;margin-left:13px;font-size:11px}.lsbb{background:#eee;border:solid 1px;border-color:#ccc #999 #999 #ccc;height:30px}.lsbb{display:block}.ftl,#fll a{display:inline-block;margin:0 12px}.lsb{background:url(/images/nav_logo229.png) 0 -261px repeat-x;border:none;color:#000;cursor:pointer;height:30px;margin:0;outline:0;font:15px arial,sans-serif;vertical-align:top}.lsb:active{background:#ccc}.lst:focus{outline:none}</style>\n",
      "<script></script>\n",
      "<link href=\"/images/branding/product/ico/googleg_lodp.ico\" rel=\"shortcut icon\"/>\n"
     ]
    }
   ],
   "source": [
    "for child in soup.head.children:\n",
    "    print(child)"
   ]
  },
  {
   "cell_type": "code",
   "execution_count": 25,
   "metadata": {
    "collapsed": false
   },
   "outputs": [
    {
     "data": {
      "text/plain": [
       "<title>Google</title>"
      ]
     },
     "execution_count": 25,
     "metadata": {},
     "output_type": "execute_result"
    }
   ],
   "source": [
    "# print the title of reddit\n",
    "soup.head.title"
   ]
  },
  {
   "cell_type": "code",
   "execution_count": 26,
   "metadata": {
    "collapsed": false
   },
   "outputs": [
    {
     "data": {
      "text/plain": [
       "u'Google'"
      ]
     },
     "execution_count": 26,
     "metadata": {},
     "output_type": "execute_result"
    }
   ],
   "source": [
    "# print the string in the title\n",
    "soup.head.title.string"
   ]
  },
  {
   "cell_type": "markdown",
   "metadata": {},
   "source": [
    "### .descendants\n",
    "\n",
    "Attribute lets you iterate over all of a tag’s children, recursively: its direct children, the children of its direct children, and so on:"
   ]
  },
  {
   "cell_type": "code",
   "execution_count": null,
   "metadata": {
    "collapsed": false
   },
   "outputs": [],
   "source": [
    "for child in soup.head.descendants:\n",
    "    print child"
   ]
  },
  {
   "cell_type": "markdown",
   "metadata": {},
   "source": [
    "### .strings\n",
    "\n",
    "If there’s more than one thing inside a tag, you can still look at just the strings. Use the .strings generator"
   ]
  },
  {
   "cell_type": "code",
   "execution_count": null,
   "metadata": {
    "collapsed": false
   },
   "outputs": [],
   "source": [
    "for string in soup.strings:\n",
    "    print(repr(string))"
   ]
  },
  {
   "cell_type": "markdown",
   "metadata": {},
   "source": [
    "### .stripped_strings\n",
    "\n",
    "These strings tend to have a lot of extra whitespace, which you can remove by using the .stripped_strings generator instead"
   ]
  },
  {
   "cell_type": "code",
   "execution_count": null,
   "metadata": {
    "collapsed": false
   },
   "outputs": [],
   "source": [
    "for string in soup.stripped_strings:\n",
    "    print(repr(string))"
   ]
  },
  {
   "cell_type": "markdown",
   "metadata": {},
   "source": [
    "### .parent\n",
    "\n",
    "You can access an element’s parent with the `.parent` attribute. In the example “three sisters” document, the `<head>` tag is the parent of the `<title>` tag:"
   ]
  },
  {
   "cell_type": "code",
   "execution_count": null,
   "metadata": {
    "collapsed": false
   },
   "outputs": [],
   "source": [
    "soup.title"
   ]
  },
  {
   "cell_type": "code",
   "execution_count": null,
   "metadata": {
    "collapsed": false
   },
   "outputs": [],
   "source": [
    "soup.title.string"
   ]
  },
  {
   "cell_type": "code",
   "execution_count": null,
   "metadata": {
    "collapsed": false
   },
   "outputs": [],
   "source": [
    "soup.title.string.parent"
   ]
  },
  {
   "cell_type": "markdown",
   "metadata": {},
   "source": [
    "# Searching the Tree\n",
    "\n",
    "Now, let's consider examples of different filters you can use to search this nested tree of HTML. These filters show up again and again, throughout the search API. You can use them to filter based on a tag’s name, on its attributes, on the text of a string, or on some combination of these.\n",
    "\n",
    "#### Use `find_all()` to find all tags"
   ]
  },
  {
   "cell_type": "markdown",
   "metadata": {},
   "source": [
    "One common task is extracting all the URLs found within a page's tags:"
   ]
  },
  {
   "cell_type": "code",
   "execution_count": 27,
   "metadata": {
    "collapsed": false
   },
   "outputs": [
    {
     "data": {
      "text/plain": [
       "[<a class=\"gb1\" href=\"http://www.google.com/imghp?hl=en&amp;tab=wi\">Images</a>,\n",
       " <a class=\"gb1\" href=\"http://maps.google.com/maps?hl=en&amp;tab=wl\">Maps</a>,\n",
       " <a class=\"gb1\" href=\"https://play.google.com/?hl=en&amp;tab=w8\">Play</a>,\n",
       " <a class=\"gb1\" href=\"http://www.youtube.com/?tab=w1\">YouTube</a>,\n",
       " <a class=\"gb1\" href=\"http://news.google.com/nwshp?hl=en&amp;tab=wn\">News</a>,\n",
       " <a class=\"gb1\" href=\"https://mail.google.com/mail/?tab=wm\">Gmail</a>,\n",
       " <a class=\"gb1\" href=\"https://drive.google.com/?tab=wo\">Drive</a>,\n",
       " <a class=\"gb1\" href=\"https://www.google.com/intl/en/options/\" style=\"text-decoration:none\"><u>More</u> »</a>,\n",
       " <a class=\"gb4\" href=\"http://www.google.com/history/optout?hl=en\">Web History</a>,\n",
       " <a class=\"gb4\" href=\"/preferences?hl=en\">Settings</a>,\n",
       " <a class=\"gb4\" href=\"https://accounts.google.com/ServiceLogin?hl=en&amp;passive=true&amp;continue=http://www.google.com/\" id=\"gb_70\" target=\"_top\">Sign in</a>,\n",
       " <a href=\"/chrome/browser/?hl=en&amp;brand=CHNG&amp;utm_source=en-hpp&amp;utm_medium=hpp&amp;utm_campaign=en\" onclick=\"google.promos&amp;&amp;google.promos.toast&amp;&amp; google.promos.toast.cl()\">Get Google Chrome</a>,\n",
       " <a href=\"/advanced_search?hl=en&amp;authuser=0\">Advanced search</a>,\n",
       " <a href=\"/language_tools?hl=en&amp;authuser=0\">Language tools</a>,\n",
       " <a href=\"/intl/en/ads/\">Advertising Programs</a>,\n",
       " <a href=\"/services/\">Business Solutions</a>,\n",
       " <a href=\"https://plus.google.com/116899029375914044550\" rel=\"publisher\">+Google</a>,\n",
       " <a href=\"/intl/en/about.html\">About Google</a>,\n",
       " <a href=\"/intl/en/policies/privacy/\">Privacy</a>,\n",
       " <a href=\"/intl/en/policies/terms/\">Terms</a>]"
      ]
     },
     "execution_count": 27,
     "metadata": {},
     "output_type": "execute_result"
    }
   ],
   "source": [
    "# search for all <a> tags; returns a list\n",
    "soup.find_all('a')"
   ]
  },
  {
   "cell_type": "code",
   "execution_count": null,
   "metadata": {
    "collapsed": false
   },
   "outputs": [],
   "source": [
    "# your turn\n",
    "# search for all the paragragh tags"
   ]
  },
  {
   "cell_type": "code",
   "execution_count": null,
   "metadata": {
    "collapsed": false
   },
   "outputs": [],
   "source": [
    "# your turn\n",
    "# search for all the table tags"
   ]
  },
  {
   "cell_type": "markdown",
   "metadata": {},
   "source": [
    "Other arguments to the `.find_all()` function include `limit` and `text`. What do those do? "
   ]
  },
  {
   "cell_type": "code",
   "execution_count": null,
   "metadata": {
    "collapsed": false
   },
   "outputs": [],
   "source": [
    "# your turn \n",
    "# search for all the <a> tags and use the limit argument "
   ]
  },
  {
   "cell_type": "code",
   "execution_count": null,
   "metadata": {
    "collapsed": false
   },
   "outputs": [],
   "source": [
    "# your turn \n",
    "# What does the using the text argument do? "
   ]
  },
  {
   "cell_type": "markdown",
   "metadata": {},
   "source": [
    "#### Use `.get()` to extract an attribute"
   ]
  },
  {
   "cell_type": "code",
   "execution_count": null,
   "metadata": {
    "collapsed": false
   },
   "outputs": [],
   "source": [
    "soup.find_all('a')[1].get('href')"
   ]
  },
  {
   "cell_type": "markdown",
   "metadata": {},
   "source": [
    "#### Looping through tags"
   ]
  },
  {
   "cell_type": "code",
   "execution_count": null,
   "metadata": {
    "collapsed": false
   },
   "outputs": [],
   "source": [
    "# your turn\n",
    "# write a for loop printing all the links from reddit"
   ]
  },
  {
   "cell_type": "code",
   "execution_count": null,
   "metadata": {
    "collapsed": false
   },
   "outputs": [],
   "source": [
    "# your turn\n",
    "# write a for loop, but use a list comprehension this time\n",
    "# show the first 5 elements"
   ]
  },
  {
   "cell_type": "code",
   "execution_count": null,
   "metadata": {
    "collapsed": false
   },
   "outputs": [],
   "source": [
    "# your turn\n",
    "# split the first url by \"/\""
   ]
  },
  {
   "cell_type": "markdown",
   "metadata": {},
   "source": [
    "Another common task is extracting all the text from a page:"
   ]
  },
  {
   "cell_type": "code",
   "execution_count": null,
   "metadata": {
    "collapsed": false
   },
   "outputs": [],
   "source": [
    "print(soup.get_text())"
   ]
  },
  {
   "cell_type": "markdown",
   "metadata": {},
   "source": [
    "# JSON\n",
    "\n",
    "#### Working with Web APIs\n",
    "Web APIs are a more convenient way for programs to interact with websites. Many webistes now have a nice API that gives access to it's data in JSON format.\n"
   ]
  },
  {
   "cell_type": "code",
   "execution_count": null,
   "metadata": {
    "collapsed": false
   },
   "outputs": [],
   "source": [
    "a = {'a': 1, 'b':2}\n",
    "s = json.dumps(a)\n",
    "a2 = json.loads(s)"
   ]
  },
  {
   "cell_type": "code",
   "execution_count": null,
   "metadata": {
    "collapsed": false
   },
   "outputs": [],
   "source": [
    "a # a dictionary"
   ]
  },
  {
   "cell_type": "code",
   "execution_count": null,
   "metadata": {
    "collapsed": false
   },
   "outputs": [],
   "source": [
    "s # s is a string containing a in JSON encoding"
   ]
  },
  {
   "cell_type": "code",
   "execution_count": null,
   "metadata": {
    "collapsed": false
   },
   "outputs": [],
   "source": [
    "a2 # reading back the keys are now in unicode"
   ]
  },
  {
   "cell_type": "markdown",
   "metadata": {},
   "source": [
    "## World Cup in JSON!\n",
    "\n",
    "The [2014 FIFA World Cup](http://en.wikipedia.org/wiki/2014_FIFA_World_Cup) was held this summer in Brazil at several different venues.  There was an [API created for the World Cup](http://worldcup.sfg.io) that scraped current match results and output match data as JSON. Possible output includes events such as goals, substitutions, and cards. The [actual matches are listed here](http://worldcup.sfg.io/matches) in JSON. \n",
    "\n",
    "* Example from [Fernando Masanori](https://gist.github.com/fmasanori/1288160dad16cc473a53)"
   ]
  },
  {
   "cell_type": "code",
   "execution_count": 39,
   "metadata": {
    "collapsed": false
   },
   "outputs": [],
   "source": [
    "# The url currently has the information of 2015 Woman's World Cup\n",
    "url = \"http://worldcup.sfg.io/matches\"\n",
    "data = urllib2.urlopen(url).read()\n",
    "wc = json.loads(data.decode('utf-8'))"
   ]
  },
  {
   "cell_type": "code",
   "execution_count": 40,
   "metadata": {
    "collapsed": false
   },
   "outputs": [
    {
     "data": {
      "text/plain": [
       "{u'away_team': {u'code': u'CHN', u'country': u'China', u'goals': 0},\n",
       " u'away_team_events': [{u'id': 11,\n",
       "   u'player': u'Wang L S',\n",
       "   u'time': u'42',\n",
       "   u'type_of_event': u'substitution-out'},\n",
       "  {u'id': 13,\n",
       "   u'player': u'Han P',\n",
       "   u'time': u'42',\n",
       "   u'type_of_event': u'substitution-in'},\n",
       "  {u'id': 9,\n",
       "   u'player': u'Li Y',\n",
       "   u'time': u'62',\n",
       "   u'type_of_event': u'substitution-out'},\n",
       "  {u'id': 14,\n",
       "   u'player': u'Zhang R',\n",
       "   u'time': u'62',\n",
       "   u'type_of_event': u'substitution-in'},\n",
       "  {u'id': 10,\n",
       "   u'player': u'Gu Ys',\n",
       "   u'time': u'87',\n",
       "   u'type_of_event': u'substitution-out'},\n",
       "  {u'id': 12,\n",
       "   u'player': u'Ma J',\n",
       "   u'time': u'87',\n",
       "   u'type_of_event': u'substitution-in'}],\n",
       " u'datetime': u'2015-06-06T15:00:00.000-05:00',\n",
       " u'home_team': {u'code': u'CAN', u'country': u'Canada', u'goals': 1},\n",
       " u'home_team_events': [{u'id': 1,\n",
       "   u'player': u'Scott',\n",
       "   u'time': u'22',\n",
       "   u'type_of_event': u'yellow-card'},\n",
       "  {u'id': 6,\n",
       "   u'player': u'Kyle',\n",
       "   u'time': u'61',\n",
       "   u'type_of_event': u'substitution-in'},\n",
       "  {u'id': 5,\n",
       "   u'player': u'Filigno',\n",
       "   u'time': u'61',\n",
       "   u'type_of_event': u'substitution-out'},\n",
       "  {u'id': 2,\n",
       "   u'player': u'Scott',\n",
       "   u'time': u'71',\n",
       "   u'type_of_event': u'substitution-out'},\n",
       "  {u'id': 7,\n",
       "   u'player': u'Fleming',\n",
       "   u'time': u'71',\n",
       "   u'type_of_event': u'substitution-in'},\n",
       "  {u'id': 4,\n",
       "   u'player': u'Tancredi',\n",
       "   u'time': u'77',\n",
       "   u'type_of_event': u'substitution-out'},\n",
       "  {u'id': 8,\n",
       "   u'player': u'Leon',\n",
       "   u'time': u'77',\n",
       "   u'type_of_event': u'substitution-in'},\n",
       "  {u'id': 3,\n",
       "   u'player': u'Sinclair',\n",
       "   u'time': u'902',\n",
       "   u'type_of_event': u'goal-penalty'}],\n",
       " u'location': u'Commonwealth Stadium',\n",
       " u'match_number': 1,\n",
       " u'status': u'completed',\n",
       " u'winner': u'Canada',\n",
       " u'winner_code': u'CAN'}"
      ]
     },
     "execution_count": 40,
     "metadata": {},
     "output_type": "execute_result"
    }
   ],
   "source": [
    "wc[0]"
   ]
  },
  {
   "cell_type": "code",
   "execution_count": 42,
   "metadata": {
    "collapsed": false
   },
   "outputs": [
    {
     "data": {
      "text/plain": [
       "\"Number of matches in 2015 Women's World Cup: 52\""
      ]
     },
     "execution_count": 42,
     "metadata": {},
     "output_type": "execute_result"
    }
   ],
   "source": [
    "\"Number of matches in 2015 Women's World Cup: %i\" % len(wc)"
   ]
  },
  {
   "cell_type": "code",
   "execution_count": 43,
   "metadata": {
    "collapsed": false
   },
   "outputs": [
    {
     "data": {
      "text/plain": [
       "[u'status',\n",
       " u'match_number',\n",
       " u'home_team',\n",
       " u'away_team',\n",
       " u'winner_code',\n",
       " u'winner',\n",
       " u'away_team_events',\n",
       " u'datetime',\n",
       " u'location',\n",
       " u'home_team_events']"
      ]
     },
     "execution_count": 43,
     "metadata": {},
     "output_type": "execute_result"
    }
   ],
   "source": [
    "# Print keys in first match\n",
    "gameIndex = 0\n",
    "wc[gameIndex].keys()"
   ]
  },
  {
   "cell_type": "code",
   "execution_count": 44,
   "metadata": {
    "collapsed": false
   },
   "outputs": [
    {
     "data": {
      "text/plain": [
       "u'completed'"
      ]
     },
     "execution_count": 44,
     "metadata": {},
     "output_type": "execute_result"
    }
   ],
   "source": [
    "wc[gameIndex]['status']"
   ]
  },
  {
   "cell_type": "code",
   "execution_count": 45,
   "metadata": {
    "collapsed": false
   },
   "outputs": [
    {
     "data": {
      "text/plain": [
       "1"
      ]
     },
     "execution_count": 45,
     "metadata": {},
     "output_type": "execute_result"
    }
   ],
   "source": [
    "wc[gameIndex]['match_number']"
   ]
  },
  {
   "cell_type": "code",
   "execution_count": 46,
   "metadata": {
    "collapsed": false
   },
   "outputs": [
    {
     "data": {
      "text/plain": [
       "{u'code': u'CHN', u'country': u'China', u'goals': 0}"
      ]
     },
     "execution_count": 46,
     "metadata": {},
     "output_type": "execute_result"
    }
   ],
   "source": [
    "wc[gameIndex]['away_team']"
   ]
  },
  {
   "cell_type": "code",
   "execution_count": 47,
   "metadata": {
    "collapsed": false
   },
   "outputs": [
    {
     "data": {
      "text/plain": [
       "[{u'id': 11,\n",
       "  u'player': u'Wang L S',\n",
       "  u'time': u'42',\n",
       "  u'type_of_event': u'substitution-out'},\n",
       " {u'id': 13,\n",
       "  u'player': u'Han P',\n",
       "  u'time': u'42',\n",
       "  u'type_of_event': u'substitution-in'},\n",
       " {u'id': 9,\n",
       "  u'player': u'Li Y',\n",
       "  u'time': u'62',\n",
       "  u'type_of_event': u'substitution-out'},\n",
       " {u'id': 14,\n",
       "  u'player': u'Zhang R',\n",
       "  u'time': u'62',\n",
       "  u'type_of_event': u'substitution-in'},\n",
       " {u'id': 10,\n",
       "  u'player': u'Gu Ys',\n",
       "  u'time': u'87',\n",
       "  u'type_of_event': u'substitution-out'},\n",
       " {u'id': 12,\n",
       "  u'player': u'Ma J',\n",
       "  u'time': u'87',\n",
       "  u'type_of_event': u'substitution-in'}]"
      ]
     },
     "execution_count": 47,
     "metadata": {},
     "output_type": "execute_result"
    }
   ],
   "source": [
    "wc[gameIndex]['away_team_events']"
   ]
  },
  {
   "cell_type": "code",
   "execution_count": 48,
   "metadata": {
    "collapsed": false
   },
   "outputs": [
    {
     "data": {
      "text/plain": [
       "{u'code': u'CAN', u'country': u'Canada', u'goals': 1}"
      ]
     },
     "execution_count": 48,
     "metadata": {},
     "output_type": "execute_result"
    }
   ],
   "source": [
    "wc[gameIndex]['home_team']"
   ]
  },
  {
   "cell_type": "markdown",
   "metadata": {},
   "source": [
    "Print the team names and goals scored for each match"
   ]
  },
  {
   "cell_type": "code",
   "execution_count": 51,
   "metadata": {
    "collapsed": false
   },
   "outputs": [
    {
     "name": "stdout",
     "output_type": "stream",
     "text": [
      "Canada 1 China 0\n",
      "New Zealand 0 Netherlands 1\n",
      "Germany 10 Ivory Coast 0\n",
      "Norway 4 Thailand 0\n",
      "Japan 1 Switzerland 0\n",
      "Cameroon 6 Ecuador 0\n",
      "United States 3 Australia 1\n",
      "Sweden 3 Nigeria 3\n",
      "Brazil 2 Korea Republic 0\n",
      "Spain 1 Costa Rica 1\n",
      "France 1 England 0\n",
      "Colombia 1 Mexico 1\n",
      "Canada 0 New Zealand 0\n",
      "China 1 Netherlands 0\n",
      "Germany 1 Norway 1\n",
      "Ivory Coast 2 Thailand 3\n",
      "Japan 2 Cameroon 1\n",
      "Switzerland 10 Ecuador 1\n",
      "United States 0 Sweden 0\n",
      "Australia 2 Nigeria 0\n",
      "Brazil 1 Spain 0\n",
      "Korea Republic 2 Costa Rica 2\n",
      "France 0 Colombia 2\n",
      "England 2 Mexico 1\n",
      "Netherlands 1 Canada 1\n",
      "China 2 New Zealand 2\n",
      "Thailand 0 Germany 4\n",
      "Ivory Coast 1 Norway 3\n",
      "Ecuador 0 Japan 1\n",
      "Switzerland 1 Cameroon 2\n",
      "Nigeria 0 United States 1\n",
      "Australia 1 Sweden 1\n",
      "Costa Rica 0 Brazil 1\n",
      "Korea Republic 2 Spain 1\n",
      "Mexico 0 France 5\n",
      "England 2 Colombia 1\n",
      "China 1 Cameroon 0\n",
      "United States 2 Colombia 0\n",
      "Germany 4 Sweden 1\n",
      "France 3 Korea Republic 0\n",
      "Brazil 0 Australia 1\n",
      "Japan 2 Netherlands 1\n",
      "Norway 1 England 2\n",
      "Canada 1 Switzerland 0\n",
      "China 0 United States 1\n",
      "Germany 1 France 1\n",
      "Australia 0 Japan 1\n",
      "England 2 Canada 1\n",
      "United States 2 Germany 0\n",
      "Japan 2 England 1\n",
      "Germany 0 England 1\n",
      "United States 5 Japan 2\n"
     ]
    }
   ],
   "source": [
    "for elem in wc:\n",
    "    print elem['home_team']['country'], elem['home_team']['goals'], elem['away_team']['country'], elem['away_team']['goals']"
   ]
  },
  {
   "cell_type": "markdown",
   "metadata": {},
   "source": [
    "### Create a pandas DataFrame from JSON"
   ]
  },
  {
   "cell_type": "code",
   "execution_count": 62,
   "metadata": {
    "collapsed": false
   },
   "outputs": [
    {
     "data": {
      "text/html": [
       "<div>\n",
       "<table border=\"1\" class=\"dataframe\">\n",
       "  <thead>\n",
       "    <tr style=\"text-align: right;\">\n",
       "      <th></th>\n",
       "      <th>match_number</th>\n",
       "      <th>location</th>\n",
       "      <th>datetime</th>\n",
       "      <th>home_team</th>\n",
       "      <th>away_team</th>\n",
       "      <th>winner</th>\n",
       "      <th>home_team_events</th>\n",
       "      <th>away_team_events</th>\n",
       "    </tr>\n",
       "  </thead>\n",
       "  <tbody>\n",
       "    <tr>\n",
       "      <th>0</th>\n",
       "      <td>1</td>\n",
       "      <td>Commonwealth Stadium</td>\n",
       "      <td>2015-06-06T15:00:00.000-05:00</td>\n",
       "      <td>{u'country': u'Canada', u'code': u'CAN', u'goa...</td>\n",
       "      <td>{u'country': u'China', u'code': u'CHN', u'goal...</td>\n",
       "      <td>Canada</td>\n",
       "      <td>[{u'type_of_event': u'yellow-card', u'player':...</td>\n",
       "      <td>[{u'type_of_event': u'substitution-out', u'pla...</td>\n",
       "    </tr>\n",
       "    <tr>\n",
       "      <th>1</th>\n",
       "      <td>2</td>\n",
       "      <td>Commonwealth Stadium</td>\n",
       "      <td>2015-06-06T18:00:00.000-05:00</td>\n",
       "      <td>{u'country': u'New Zealand', u'code': u'NZL', ...</td>\n",
       "      <td>{u'country': u'Netherlands', u'code': u'NED', ...</td>\n",
       "      <td>Netherlands</td>\n",
       "      <td>[{u'type_of_event': u'substitution-out', u'pla...</td>\n",
       "      <td>[{u'type_of_event': u'yellow-card', u'player':...</td>\n",
       "    </tr>\n",
       "    <tr>\n",
       "      <th>2</th>\n",
       "      <td>3</td>\n",
       "      <td>Lansdowne Stadium</td>\n",
       "      <td>2015-06-07T15:00:00.000-05:00</td>\n",
       "      <td>{u'country': u'Germany', u'code': u'GER', u'go...</td>\n",
       "      <td>{u'country': u'Ivory Coast', u'code': u'CIV', ...</td>\n",
       "      <td>Germany</td>\n",
       "      <td>[{u'type_of_event': u'goal', u'player': u'Sasi...</td>\n",
       "      <td>[{u'type_of_event': u'yellow-card', u'player':...</td>\n",
       "    </tr>\n",
       "    <tr>\n",
       "      <th>3</th>\n",
       "      <td>4</td>\n",
       "      <td>Lansdowne Stadium</td>\n",
       "      <td>2015-06-07T12:00:00.000-05:00</td>\n",
       "      <td>{u'country': u'Norway', u'code': u'NOR', u'goa...</td>\n",
       "      <td>{u'country': u'Thailand', u'code': u'THA', u'g...</td>\n",
       "      <td>Norway</td>\n",
       "      <td>[{u'type_of_event': u'goal', u'player': u'Rønn...</td>\n",
       "      <td>[{u'type_of_event': u'yellow-card', u'player':...</td>\n",
       "    </tr>\n",
       "    <tr>\n",
       "      <th>4</th>\n",
       "      <td>5</td>\n",
       "      <td>BC Place Stadium</td>\n",
       "      <td>2015-06-08T18:00:00.000-05:00</td>\n",
       "      <td>{u'country': u'Japan', u'code': u'JPN', u'goal...</td>\n",
       "      <td>{u'country': u'Switzerland', u'code': u'SUI', ...</td>\n",
       "      <td>Japan</td>\n",
       "      <td>[{u'type_of_event': u'goal-penalty', u'player'...</td>\n",
       "      <td>[{u'type_of_event': u'yellow-card', u'player':...</td>\n",
       "    </tr>\n",
       "  </tbody>\n",
       "</table>\n",
       "</div>"
      ],
      "text/plain": [
       "   match_number              location                       datetime  \\\n",
       "0             1  Commonwealth Stadium  2015-06-06T15:00:00.000-05:00   \n",
       "1             2  Commonwealth Stadium  2015-06-06T18:00:00.000-05:00   \n",
       "2             3     Lansdowne Stadium  2015-06-07T15:00:00.000-05:00   \n",
       "3             4     Lansdowne Stadium  2015-06-07T12:00:00.000-05:00   \n",
       "4             5      BC Place Stadium  2015-06-08T18:00:00.000-05:00   \n",
       "\n",
       "                                           home_team  \\\n",
       "0  {u'country': u'Canada', u'code': u'CAN', u'goa...   \n",
       "1  {u'country': u'New Zealand', u'code': u'NZL', ...   \n",
       "2  {u'country': u'Germany', u'code': u'GER', u'go...   \n",
       "3  {u'country': u'Norway', u'code': u'NOR', u'goa...   \n",
       "4  {u'country': u'Japan', u'code': u'JPN', u'goal...   \n",
       "\n",
       "                                           away_team       winner  \\\n",
       "0  {u'country': u'China', u'code': u'CHN', u'goal...       Canada   \n",
       "1  {u'country': u'Netherlands', u'code': u'NED', ...  Netherlands   \n",
       "2  {u'country': u'Ivory Coast', u'code': u'CIV', ...      Germany   \n",
       "3  {u'country': u'Thailand', u'code': u'THA', u'g...       Norway   \n",
       "4  {u'country': u'Switzerland', u'code': u'SUI', ...        Japan   \n",
       "\n",
       "                                    home_team_events  \\\n",
       "0  [{u'type_of_event': u'yellow-card', u'player':...   \n",
       "1  [{u'type_of_event': u'substitution-out', u'pla...   \n",
       "2  [{u'type_of_event': u'goal', u'player': u'Sasi...   \n",
       "3  [{u'type_of_event': u'goal', u'player': u'Rønn...   \n",
       "4  [{u'type_of_event': u'goal-penalty', u'player'...   \n",
       "\n",
       "                                    away_team_events  \n",
       "0  [{u'type_of_event': u'substitution-out', u'pla...  \n",
       "1  [{u'type_of_event': u'yellow-card', u'player':...  \n",
       "2  [{u'type_of_event': u'yellow-card', u'player':...  \n",
       "3  [{u'type_of_event': u'yellow-card', u'player':...  \n",
       "4  [{u'type_of_event': u'yellow-card', u'player':...  "
      ]
     },
     "execution_count": 62,
     "metadata": {},
     "output_type": "execute_result"
    }
   ],
   "source": [
    "# select the columns used for DataFrame\n",
    "data = pd.DataFrame(wc, columns = ['match_number', 'location', 'datetime', 'home_team', 'away_team', 'winner', 'home_team_events', 'away_team_events'])\n",
    "data.head()"
   ]
  },
  {
   "cell_type": "markdown",
   "metadata": {},
   "source": [
    "#### Convert format of a column\n",
    "\n",
    "Here we pandas [DatetimeIndex](http://pandas.pydata.org/pandas-docs/stable/generated/pandas.DatetimeIndex.html) to convert the `datetime` column to two seperate columns: a date and a time for each match."
   ]
  },
  {
   "cell_type": "code",
   "execution_count": 63,
   "metadata": {
    "collapsed": false
   },
   "outputs": [],
   "source": [
    "data['gameDate'] = pd.DatetimeIndex(data.datetime).date\n",
    "data['gameTime'] = pd.DatetimeIndex(data.datetime).time"
   ]
  },
  {
   "cell_type": "code",
   "execution_count": 64,
   "metadata": {
    "collapsed": false
   },
   "outputs": [
    {
     "data": {
      "text/html": [
       "<div>\n",
       "<table border=\"1\" class=\"dataframe\">\n",
       "  <thead>\n",
       "    <tr style=\"text-align: right;\">\n",
       "      <th></th>\n",
       "      <th>match_number</th>\n",
       "      <th>location</th>\n",
       "      <th>datetime</th>\n",
       "      <th>gameDate</th>\n",
       "      <th>gameTime</th>\n",
       "    </tr>\n",
       "  </thead>\n",
       "  <tbody>\n",
       "    <tr>\n",
       "      <th>0</th>\n",
       "      <td>1</td>\n",
       "      <td>Commonwealth Stadium</td>\n",
       "      <td>2015-06-06T15:00:00.000-05:00</td>\n",
       "      <td>2015-06-06</td>\n",
       "      <td>20:00:00</td>\n",
       "    </tr>\n",
       "    <tr>\n",
       "      <th>1</th>\n",
       "      <td>2</td>\n",
       "      <td>Commonwealth Stadium</td>\n",
       "      <td>2015-06-06T18:00:00.000-05:00</td>\n",
       "      <td>2015-06-06</td>\n",
       "      <td>23:00:00</td>\n",
       "    </tr>\n",
       "    <tr>\n",
       "      <th>2</th>\n",
       "      <td>3</td>\n",
       "      <td>Lansdowne Stadium</td>\n",
       "      <td>2015-06-07T15:00:00.000-05:00</td>\n",
       "      <td>2015-06-07</td>\n",
       "      <td>20:00:00</td>\n",
       "    </tr>\n",
       "    <tr>\n",
       "      <th>3</th>\n",
       "      <td>4</td>\n",
       "      <td>Lansdowne Stadium</td>\n",
       "      <td>2015-06-07T12:00:00.000-05:00</td>\n",
       "      <td>2015-06-07</td>\n",
       "      <td>17:00:00</td>\n",
       "    </tr>\n",
       "    <tr>\n",
       "      <th>4</th>\n",
       "      <td>5</td>\n",
       "      <td>BC Place Stadium</td>\n",
       "      <td>2015-06-08T18:00:00.000-05:00</td>\n",
       "      <td>2015-06-08</td>\n",
       "      <td>23:00:00</td>\n",
       "    </tr>\n",
       "  </tbody>\n",
       "</table>\n",
       "</div>"
      ],
      "text/plain": [
       "   match_number              location                       datetime  \\\n",
       "0             1  Commonwealth Stadium  2015-06-06T15:00:00.000-05:00   \n",
       "1             2  Commonwealth Stadium  2015-06-06T18:00:00.000-05:00   \n",
       "2             3     Lansdowne Stadium  2015-06-07T15:00:00.000-05:00   \n",
       "3             4     Lansdowne Stadium  2015-06-07T12:00:00.000-05:00   \n",
       "4             5      BC Place Stadium  2015-06-08T18:00:00.000-05:00   \n",
       "\n",
       "     gameDate  gameTime  \n",
       "0  2015-06-06  20:00:00  \n",
       "1  2015-06-06  23:00:00  \n",
       "2  2015-06-07  20:00:00  \n",
       "3  2015-06-07  17:00:00  \n",
       "4  2015-06-08  23:00:00  "
      ]
     },
     "execution_count": 64,
     "metadata": {},
     "output_type": "execute_result"
    }
   ],
   "source": [
    "data[['match_number', 'location', 'datetime', 'gameDate', 'gameTime']].head()"
   ]
  }
 ],
 "metadata": {
  "kernelspec": {
   "display_name": "Python 2",
   "language": "python",
   "name": "python2"
  },
  "language_info": {
   "codemirror_mode": {
    "name": "ipython",
    "version": 2
   },
   "file_extension": ".py",
   "mimetype": "text/x-python",
   "name": "python",
   "nbconvert_exporter": "python",
   "pygments_lexer": "ipython2",
   "version": "2.7.10"
  }
 },
 "nbformat": 4,
 "nbformat_minor": 0
}
