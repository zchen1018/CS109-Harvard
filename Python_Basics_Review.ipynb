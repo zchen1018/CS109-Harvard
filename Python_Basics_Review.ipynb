{
 "cells": [
  {
   "cell_type": "markdown",
   "metadata": {},
   "source": [
    "# Review of Python Basics\n",
    "#### Reference:\n",
    "1. Official Doc https://docs.python.org/2/tutorial\n",
    "2. A Byte of Python http://python.swaroopch.com/data_structures.html\n",
    "3. http://www.informatics.indiana.edu/rocha/academics/i-bic/lab1/Python%20review.pdf"
   ]
  },
  {
   "cell_type": "markdown",
   "metadata": {},
   "source": [
    "## Control Flow"
   ]
  },
  {
   "cell_type": "markdown",
   "metadata": {},
   "source": [
    "### *If* Statement"
   ]
  },
  {
   "cell_type": "code",
   "execution_count": 4,
   "metadata": {
    "collapsed": false
   },
   "outputs": [
    {
     "name": "stdout",
     "output_type": "stream",
     "text": [
      "5 is in [0, 5]\n"
     ]
    }
   ],
   "source": [
    "x = 5\n",
    "if x < 0:\n",
    "    print str(x) + \" is less than 0\"\n",
    "elif x >= 0 and x <= 5:\n",
    "    print str(x) + \" is in [0, 5]\"\n",
    "else:\n",
    "    print str(x) + \" larger than 5\""
   ]
  },
  {
   "cell_type": "markdown",
   "metadata": {},
   "source": [
    "### *While* Statement"
   ]
  },
  {
   "cell_type": "code",
   "execution_count": 5,
   "metadata": {
    "collapsed": false
   },
   "outputs": [
    {
     "name": "stdout",
     "output_type": "stream",
     "text": [
      "x is now 2\n",
      "x is now 0\n",
      "While loop is now over\n"
     ]
    }
   ],
   "source": [
    "x = 4\n",
    "while x > 0:\n",
    "    x -= 2\n",
    "    print \"x is now \" + str(x)\n",
    "else:\n",
    "    print \"While loop is now over\""
   ]
  },
  {
   "cell_type": "markdown",
   "metadata": {},
   "source": [
    "### For loop"
   ]
  },
  {
   "cell_type": "markdown",
   "metadata": {},
   "source": [
    "*range( ) function*"
   ]
  },
  {
   "cell_type": "code",
   "execution_count": 6,
   "metadata": {
    "collapsed": false
   },
   "outputs": [
    {
     "data": {
      "text/plain": [
       "[0, 1, 2, 3, 4]"
      ]
     },
     "execution_count": 6,
     "metadata": {},
     "output_type": "execute_result"
    }
   ],
   "source": [
    "range(5) # equivalent to to range(0, 5), return a list of integers in [0, 5)"
   ]
  },
  {
   "cell_type": "code",
   "execution_count": 7,
   "metadata": {
    "collapsed": false
   },
   "outputs": [
    {
     "name": "stdout",
     "output_type": "stream",
     "text": [
      "1\n",
      "4\n",
      "7\n"
     ]
    }
   ],
   "source": [
    "for i in range(1, 10, 3): # step = 3\n",
    "    print i"
   ]
  },
  {
   "cell_type": "markdown",
   "metadata": {},
   "source": [
    "### *Break* and *Continue*\n",
    "The break statement breaks out of the smallest enclosing for or while loop:"
   ]
  },
  {
   "cell_type": "code",
   "execution_count": 8,
   "metadata": {
    "collapsed": false
   },
   "outputs": [
    {
     "name": "stdout",
     "output_type": "stream",
     "text": [
      "2 is a prime number\n",
      "3 is a prime number\n",
      "4 equals 2 * 2\n",
      "5 is a prime number\n",
      "6 equals 2 * 3\n",
      "7 is a prime number\n",
      "8 equals 2 * 4\n",
      "9 equals 3 * 3\n"
     ]
    }
   ],
   "source": [
    "for n in range(2, 10):\n",
    "    for x in range(2, n):\n",
    "        if n % x == 0: # then n is not a prime number\n",
    "            print n, 'equals', x, '*', n/x\n",
    "            break # out of the loop for x\n",
    "    else:\n",
    "    # loop fell through without finding a factor\n",
    "        print n, 'is a prime number'"
   ]
  },
  {
   "cell_type": "markdown",
   "metadata": {},
   "source": [
    "The continue statement continues with the next iteration of the loop:"
   ]
  },
  {
   "cell_type": "code",
   "execution_count": 9,
   "metadata": {
    "collapsed": false
   },
   "outputs": [
    {
     "name": "stdout",
     "output_type": "stream",
     "text": [
      "2 is an even number\n",
      "3 is an odd number\n",
      "4 is an even number\n"
     ]
    }
   ],
   "source": [
    "for num in range(2, 5):\n",
    "    if num % 2 == 0:\n",
    "        print num, \"is an even number\"\n",
    "        continue\n",
    "    print num, \"is an odd number\""
   ]
  },
  {
   "cell_type": "markdown",
   "metadata": {},
   "source": [
    "## Function"
   ]
  },
  {
   "cell_type": "code",
   "execution_count": 10,
   "metadata": {
    "collapsed": false
   },
   "outputs": [],
   "source": [
    "def feb(n):\n",
    "    \"\"\"A function to return a list of Fibonacci series before n\n",
    "\n",
    "    f(0) = 0, f(1) = 1\n",
    "    f(n) = f(n-1) + f(n-2), for n=2,3,...\n",
    "    \"\"\"\n",
    "    result = []\n",
    "    a, b = 0, 1\n",
    "    while a < n:\n",
    "        result.append(a)\n",
    "        a, b = b, a+b\n",
    "    return result"
   ]
  },
  {
   "cell_type": "code",
   "execution_count": 11,
   "metadata": {
    "collapsed": false
   },
   "outputs": [
    {
     "name": "stdout",
     "output_type": "stream",
     "text": [
      "Help on function feb in module __main__:\n",
      "\n",
      "feb(n)\n",
      "    A function to return a list of Fibonacci series before n\n",
      "    \n",
      "    f(0) = 0, f(1) = 1\n",
      "    f(n) = f(n-1) + f(n-2), for n=2,3,...\n",
      "\n"
     ]
    }
   ],
   "source": [
    "# use help() to get the docstring of the function\n",
    "help(feb)"
   ]
  },
  {
   "cell_type": "code",
   "execution_count": 12,
   "metadata": {
    "collapsed": false
   },
   "outputs": [
    {
     "data": {
      "text/plain": [
       "[0, 1, 1, 2, 3, 5, 8, 13, 21, 34, 55, 89]"
      ]
     },
     "execution_count": 12,
     "metadata": {},
     "output_type": "execute_result"
    }
   ],
   "source": [
    "feb(100)"
   ]
  },
  {
   "cell_type": "markdown",
   "metadata": {},
   "source": [
    "### Lambda Expression\n",
    "Small anonymous functions can be created with the *lambda* keyword. Lambda functions can be used wherever function objects are required. They are syntactically restricted to a single expression. \n",
    "\n",
    "Powerful when we need a function that is going to be used only once."
   ]
  },
  {
   "cell_type": "code",
   "execution_count": 34,
   "metadata": {
    "collapsed": true
   },
   "outputs": [],
   "source": [
    "# Two ways to define a function\n",
    "def square(x):\n",
    "    return x**2\n",
    "\n",
    "square = lambda x: x**2"
   ]
  },
  {
   "cell_type": "code",
   "execution_count": 37,
   "metadata": {
    "collapsed": false
   },
   "outputs": [
    {
     "name": "stdout",
     "output_type": "stream",
     "text": [
      "42 44\n",
      "32\n"
     ]
    }
   ],
   "source": [
    "def make_incrementor(n):\n",
    "    return lambda x: x + n # a function that increments n by x is being returned\n",
    "\n",
    "f = make_incrementor(42)\n",
    "print f(0), f(2)\n",
    "print make_incrementor(22)(10)"
   ]
  },
  {
   "cell_type": "code",
   "execution_count": 42,
   "metadata": {
    "collapsed": false
   },
   "outputs": [
    {
     "name": "stdout",
     "output_type": "stream",
     "text": [
      "[3, 15, 9]\n"
     ]
    }
   ],
   "source": [
    "l = [3, 14, 15, 9, 4, 88, 19]\n",
    "# Find elements that can be divided by 3\n",
    "print filter(lambda x: x%3 == 0, l)"
   ]
  },
  {
   "cell_type": "markdown",
   "metadata": {},
   "source": [
    "## Data Structures\n",
    "1. List\n",
    "2. Dictionary\n",
    "3. Tuple and Sequence\n",
    "4. Set\n",
    "5. Loop techniques"
   ]
  },
  {
   "cell_type": "markdown",
   "metadata": {},
   "source": [
    "### List\n",
    "* Methods: \n",
    "    * list.append(x): Add an item to the end\n",
    "    * list.extend(L): Extend by another list at the end\n",
    "    * list.insert(i, x)\n",
    "    * list.remove(x): Remove first item whose value is x\n",
    "    * list.pop([i]): Remove the item and return it\n",
    "    * list.index(x): Return the index in the list of the first item whose value is x\n",
    "    * list.count(x)\n",
    "    * list.sort(cmp=None, key=None, reverse=False)\n",
    "    * list.reverse()\n",
    "    * del list[a:b]: remove items at position a to b-1\n",
    "\n",
    "* List Comprehension"
   ]
  },
  {
   "cell_type": "code",
   "execution_count": 73,
   "metadata": {
    "collapsed": false
   },
   "outputs": [
    {
     "name": "stdout",
     "output_type": "stream",
     "text": [
      "[3, 14, 15, 9, 26, 10, 9, 1, -5]\n"
     ]
    },
    {
     "data": {
      "text/plain": [
       "[3, 14, 15, 26, 10, 1, -5]"
      ]
     },
     "execution_count": 73,
     "metadata": {},
     "output_type": "execute_result"
    }
   ],
   "source": [
    "l = [3, 14, 15, 9, 26]\n",
    "l2 = [9, 1, -5]\n",
    "l.append(10)\n",
    "# Concatenate two lists\n",
    "l = l + l2\n",
    "print l\n",
    "# Function approach to remove all x from the list\n",
    "def remove_all(value, list_name):\n",
    "    return filter(lambda x: x != value, list_name)\n",
    "remove_all(9, l)"
   ]
  },
  {
   "cell_type": "code",
   "execution_count": 74,
   "metadata": {
    "collapsed": false
   },
   "outputs": [
    {
     "name": "stdout",
     "output_type": "stream",
     "text": [
      "3\n"
     ]
    }
   ],
   "source": [
    "lt = ['a', 2, [1,2,3]]\n",
    "print len(lt)"
   ]
  },
  {
   "cell_type": "markdown",
   "metadata": {},
   "source": [
    "#### List Comprehension\n",
    "A concise way to make new lists where each element is the result of some operations applied to each member of another sequence or iterable, or to create a subsequence of those elements that satisfy a certain condition."
   ]
  },
  {
   "cell_type": "code",
   "execution_count": 75,
   "metadata": {
    "collapsed": false
   },
   "outputs": [
    {
     "data": {
      "text/plain": [
       "[0, 4, 16, 36, 64]"
      ]
     },
     "execution_count": 75,
     "metadata": {},
     "output_type": "execute_result"
    }
   ],
   "source": [
    "[x**2 for x in range(10) if x % 2== 0]"
   ]
  },
  {
   "cell_type": "markdown",
   "metadata": {},
   "source": [
    "### Dictionary\n",
    "* Values indexed by keys (any immutable type, e.g. strings and numbers)\n",
    "* Key-value pairs in a dictionary are not ordered in any manner, even not ordered by insertion time\n",
    "* Methods: \n",
    "    * dict.keys()\n",
    "    * dict.values()\n",
    "    * dict.items(): Return (key, value) tuple pairs\n",
    "    * dict.clear(): Remove all elements\n",
    "    * dict.has_key(key): True is dict has key, False else\n",
    "    * dict.get(key, default=None): For key key, returns value or default if key not in dictionary\n",
    "    * del dict[key]: delete all items with key"
   ]
  },
  {
   "cell_type": "code",
   "execution_count": 98,
   "metadata": {
    "collapsed": false
   },
   "outputs": [
    {
     "name": "stdout",
     "output_type": "stream",
     "text": [
      "None\n",
      "{'Age': 7, 'Name': 'Zara', 'Class': 'First'}\n"
     ]
    }
   ],
   "source": [
    "dt = {'Name': 'Zara', 'Age': 7, 'Class': 'First'}\n",
    "# dt['None'] throws an error\n",
    "print dt.get('NOKEY') # return None by default\n",
    "print dt"
   ]
  },
  {
   "cell_type": "code",
   "execution_count": 104,
   "metadata": {
    "collapsed": false
   },
   "outputs": [
    {
     "name": "stdout",
     "output_type": "stream",
     "text": [
      "{'abc': 0, 'xzy': 0, 'def': 0}\n",
      "{'sape': 4139, 'jack': 4098, 'guido': 4127}\n",
      "{'sape': 4139, 'jack': 4098, 'guido': 4127}\n"
     ]
    }
   ],
   "source": [
    "### Other ways to create a dictionary\n",
    "# Dictionary Comprehension\n",
    "print {key:0 for key in ['abc', 'def', 'xzy']}\n",
    "\n",
    "# From sequences of key-value pairs\n",
    "print dict([['sape', 4139], ('guido', 4127), ('jack', 4098)])\n",
    "\n",
    "# Specify pairs using keyword arguments\n",
    "print dict(sape=4139, guido=4127, jack=4098)"
   ]
  },
  {
   "cell_type": "markdown",
   "metadata": {},
   "source": [
    "### Tuple and Sequence\n",
    "* A tuple consists of a number of values separated by commas\n",
    "* Tuples are immutable (cannot be modified) while Lists are mutable\n",
    "* String, List and Tuple are all examples of sequence data types."
   ]
  },
  {
   "cell_type": "code",
   "execution_count": 108,
   "metadata": {
    "collapsed": false
   },
   "outputs": [
    {
     "data": {
      "text/plain": [
       "12345"
      ]
     },
     "execution_count": 108,
     "metadata": {},
     "output_type": "execute_result"
    }
   ],
   "source": [
    "t = 12345, 54321, 'hello!'\n",
    "t[0]"
   ]
  },
  {
   "cell_type": "code",
   "execution_count": 109,
   "metadata": {
    "collapsed": false
   },
   "outputs": [
    {
     "name": "stdout",
     "output_type": "stream",
     "text": [
      "12345 54321 hello!\n"
     ]
    }
   ],
   "source": [
    "# Sequence unpacking\n",
    "x, y, z = t\n",
    "print x, y, z"
   ]
  },
  {
   "cell_type": "markdown",
   "metadata": {},
   "source": [
    "### Set\n",
    "* Unordered collection with no duplicate elements\n",
    "* Methods:\n",
    "    * set1 & set2: Intersection\n",
    "    * set1 | set2: Union\n",
    "    * set1 - set2: Difference\n",
    "    * set.add(e): Add an element\n",
    "    * set.update(S): Update with another set S\n",
    "    * set.issuperset(S): Test if set contains set S\n",
    "    * set.discard(e): Remove element\n",
    "    * e in set: Membership test\n",
    "    * set(list): convert a list into a set"
   ]
  },
  {
   "cell_type": "markdown",
   "metadata": {},
   "source": [
    "### Looping"
   ]
  },
  {
   "cell_type": "code",
   "execution_count": 123,
   "metadata": {
    "collapsed": false
   },
   "outputs": [
    {
     "name": "stdout",
     "output_type": "stream",
     "text": [
      "0 tic\n",
      "1 tac\n",
      "2 toe\n"
     ]
    }
   ],
   "source": [
    "# For a List (Sequence), to get the position index and corresponding value:\n",
    "for i, v in enumerate(['tic', 'tac', 'toe']): \n",
    "    print i, v"
   ]
  },
  {
   "cell_type": "code",
   "execution_count": 124,
   "metadata": {
    "collapsed": false
   },
   "outputs": [
    {
     "name": "stdout",
     "output_type": "stream",
     "text": [
      "gallahad the pure\n",
      "robin the brave\n"
     ]
    }
   ],
   "source": [
    "# For a Dictionary, to get the the key and corresponding value:\n",
    "knights = {'gallahad': 'the pure', 'robin': 'the brave'}\n",
    "for k, v in knights.iteritems():\n",
    "    print k, v"
   ]
  },
  {
   "cell_type": "markdown",
   "metadata": {},
   "source": [
    "### Sorting"
   ]
  },
  {
   "cell_type": "code",
   "execution_count": 125,
   "metadata": {
    "collapsed": false
   },
   "outputs": [
    {
     "name": "stdout",
     "output_type": "stream",
     "text": [
      "['apple', 'apple', 'banana', 'orange', 'orange', 'pear']\n",
      "['pear', 'orange', 'orange', 'banana', 'apple', 'apple']\n"
     ]
    }
   ],
   "source": [
    "# Sort a list\n",
    "basket = ['apple', 'orange', 'apple', 'pear', 'orange', 'banana']\n",
    "print sorted(basket) # or basket.sort()\n",
    "\n",
    "# In reversed order\n",
    "print sorted(basket, reverse=True) # Or basket.sort(reverse = True)"
   ]
  },
  {
   "cell_type": "code",
   "execution_count": 136,
   "metadata": {
    "collapsed": false
   },
   "outputs": [
    {
     "name": "stdout",
     "output_type": "stream",
     "text": [
      "[('xyz', 0), ('lsq', 1), ('abc', 2), ('yyy', 3), ('hhy', 4)]\n",
      "[('abc', 2), ('hhy', 4), ('lsq', 1), ('xyz', 0), ('yyy', 3)]\n"
     ]
    }
   ],
   "source": [
    "# Sort a dictionary by its value\n",
    "x = {'abc': 2, 'hhy': 4, 'yyy': 3, 'lsq': 1, 'xyz': 0}\n",
    "print sorted(x.items(), key=lambda x: x[1])\n",
    "\n",
    "# by its key\n",
    "print sorted(x.items(), key=lambda x: x[0])"
   ]
  }
 ],
 "metadata": {
  "kernelspec": {
   "display_name": "Python 2",
   "language": "python",
   "name": "python2"
  },
  "language_info": {
   "codemirror_mode": {
    "name": "ipython",
    "version": 2
   },
   "file_extension": ".py",
   "mimetype": "text/x-python",
   "name": "python",
   "nbconvert_exporter": "python",
   "pygments_lexer": "ipython2",
   "version": "2.7.10"
  }
 },
 "nbformat": 4,
 "nbformat_minor": 0
}
